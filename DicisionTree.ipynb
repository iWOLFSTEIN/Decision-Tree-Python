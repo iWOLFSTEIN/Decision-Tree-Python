{
 "cells": [
  {
   "cell_type": "code",
   "execution_count": 9,
   "metadata": {},
   "outputs": [
    {
     "name": "stdout",
     "output_type": "stream",
     "text": [
      "   Age Sex      BP Cholesterol  Na_to_K   Drug\n",
      "0   23   F    HIGH        HIGH   25.355  drugY\n",
      "1   47   M     LOW        HIGH   13.093  drugC\n",
      "2   47   M     LOW        HIGH   10.114  drugC\n",
      "3   28   F  NORMAL        HIGH    7.798  drugX\n",
      "4   61   F     LOW        HIGH   18.043  drugY\n"
     ]
    }
   ],
   "source": [
    "import pandas as pd\n",
    "\n",
    "dataframe = pd.read_csv('E:\\Visual Code Projects\\Python Projects\\python\\Machine Learning\\drug200.csv')\n",
    "print(dataframe.head())\n",
    "\n"
   ]
  },
  {
   "cell_type": "code",
   "execution_count": 10,
   "metadata": {},
   "outputs": [
    {
     "name": "stdout",
     "output_type": "stream",
     "text": [
      "   Age Sex      BP Cholesterol  Na_to_K\n",
      "0   23   F    HIGH        HIGH   25.355\n",
      "1   47   M     LOW        HIGH   13.093\n",
      "2   47   M     LOW        HIGH   10.114\n",
      "3   28   F  NORMAL        HIGH    7.798\n",
      "4   61   F     LOW        HIGH   18.043\n",
      "    Drug\n",
      "0  drugY\n",
      "1  drugC\n",
      "2  drugC\n",
      "3  drugX\n",
      "4  drugY\n",
      "(200, 6)\n"
     ]
    }
   ],
   "source": [
    "\n",
    "pridictor = dataframe.drop(['Drug'],axis='columns')\n",
    "target = dataframe.drop(['Age', 'Sex', 'BP', 'Cholesterol', 'Na_to_K'],axis='columns')\n",
    "\n",
    "print(pridictor.head())\n",
    "print(target.head())\n",
    "print(dataframe.shape)\n"
   ]
  },
  {
   "cell_type": "code",
   "execution_count": 11,
   "metadata": {},
   "outputs": [
    {
     "name": "stdout",
     "output_type": "stream",
     "text": [
      "   Age  Na_to_K  Numeric_Sex  Numeric_BP  Numeric_Cholesterol\n",
      "0   23   25.355            0           0                    0\n",
      "1   47   13.093            1           1                    0\n",
      "2   47   10.114            1           1                    0\n",
      "3   28    7.798            0           2                    0\n",
      "4   61   18.043            0           1                    0\n",
      "   Numeric_Drug\n",
      "0             4\n",
      "1             2\n",
      "2             2\n",
      "3             3\n",
      "4             4\n"
     ]
    }
   ],
   "source": [
    "from sklearn.preprocessing import LabelEncoder\n",
    "\n",
    "num_sex = LabelEncoder()\n",
    "num_bp = LabelEncoder()\n",
    "num_cholesterol = LabelEncoder()\n",
    "num_drug = LabelEncoder()\n",
    "\n",
    "pridictor[\"Numeric_Sex\" ]= num_sex.fit_transform(pridictor[\"Sex\"])\n",
    "pridictor[\"Numeric_BP\" ]= num_bp.fit_transform(pridictor[\"BP\"])\n",
    "pridictor[\"Numeric_Cholesterol\" ]= num_cholesterol.fit_transform(pridictor[\"Cholesterol\"])\n",
    "target[\"Numeric_Drug\"] = num_drug.fit_transform(target['Drug'])\n",
    "\n",
    "\n",
    "pridictor = pridictor.drop([\"Sex\",\"BP\",\"Cholesterol\"],axis='columns')\n",
    "target = target.drop(['Drug'],axis='columns')\n",
    "print(pridictor.head())\n",
    "print(target.head())\n"
   ]
  },
  {
   "cell_type": "code",
   "execution_count": 12,
   "metadata": {},
   "outputs": [],
   "source": [
    "from sklearn.model_selection import train_test_split\n",
    "\n",
    "X_train, X_test, y_train, y_test = train_test_split(pridictor, target, train_size =0.75)\n",
    "\n",
    "\n"
   ]
  },
  {
   "cell_type": "code",
   "execution_count": 13,
   "metadata": {},
   "outputs": [
    {
     "data": {
      "text/plain": [
       "DecisionTreeClassifier()"
      ]
     },
     "execution_count": 13,
     "metadata": {},
     "output_type": "execute_result"
    }
   ],
   "source": [
    "from sklearn import tree\n",
    "\n",
    "model = tree.DecisionTreeClassifier()\n",
    "model.fit(X_train, y_train)"
   ]
  },
  {
   "cell_type": "code",
   "execution_count": 14,
   "metadata": {},
   "outputs": [
    {
     "name": "stdout",
     "output_type": "stream",
     "text": [
      "0.98\n"
     ]
    }
   ],
   "source": [
    "import numpy as np\n",
    "\n",
    "predict = model.predict(X_test)\n",
    "# print(predict)\n",
    "print(model.score(X_test, y_test))\n",
    "# length = len(predict)\n",
    "# score = 0\n",
    "\n",
    "# for i in range(length):\n",
    "#     if predict[i] == y_test.Numeric_Drug.values[i]:\n",
    "#         score = score + 1\n",
    "\n",
    "# score = (score/length)*100\n",
    "# print('Hence our model is ' + str(score) + \"% efficient\")\n",
    "\n"
   ]
  }
 ],
 "metadata": {
  "interpreter": {
   "hash": "665b158588dcc47ab85000ff2b6a4607b20122ff18c80d10f82ecc3e0cfafd73"
  },
  "kernelspec": {
   "display_name": "Python 3.9.6 64-bit",
   "name": "python3"
  },
  "language_info": {
   "codemirror_mode": {
    "name": "ipython",
    "version": 3
   },
   "file_extension": ".py",
   "mimetype": "text/x-python",
   "name": "python",
   "nbconvert_exporter": "python",
   "pygments_lexer": "ipython3",
   "version": "3.9.6"
  },
  "orig_nbformat": 4
 },
 "nbformat": 4,
 "nbformat_minor": 2
}
